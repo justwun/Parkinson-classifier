{
 "cells": [
  {
   "cell_type": "code",
   "execution_count": 2,
   "metadata": {},
   "outputs": [
    {
     "name": "stdout",
     "output_type": "stream",
     "text": [
      " Preprocessing done! Spiral + Meander merged into train/val.\n"
     ]
    }
   ],
   "source": [
    "import os\n",
    "import shutil\n",
    "from sklearn.model_selection import train_test_split\n",
    "base_dir = r\"C:\\Users\\VINH\\Desktop\\SHAKYSHAKY\\DATA\"\n",
    "output_dir = os.path.join(base_dir, \"merged\")\n",
    "data_sources = {\n",
    "    \"healthy\": [\n",
    "        os.path.join(base_dir, \"Spiral\", \"SpiralControl\"),\n",
    "        os.path.join(base_dir, \"Meander\", \"MeanderControl\")\n",
    "    ],\n",
    "    \"parkinson\": [\n",
    "        os.path.join(base_dir, \"Spiral\", \"SpiralPatients\"),\n",
    "        os.path.join(base_dir, \"Meander\", \"MeanderPatients\")\n",
    "    ]\n",
    "}\n",
    "for split in [\"train\", \"val\"]:\n",
    "    for label in [\"healthy\", \"parkinson\"]:\n",
    "        os.makedirs(os.path.join(output_dir, split, label), exist_ok=True)\n",
    "def merge_and_split(label, folders):\n",
    "    all_images = []\n",
    "    for folder in folders:\n",
    "        files = [os.path.join(folder, f) for f in os.listdir(folder) if f.lower().endswith((\".png\", \".jpg\", \".jpeg\"))]\n",
    "        all_images.extend(files)\n",
    "    #80% train, 20% val\n",
    "    train_imgs, val_imgs = train_test_split(all_images, test_size=0.3, random_state=42)\n",
    "    for img in train_imgs:\n",
    "        shutil.copy(img, os.path.join(output_dir, \"train\", label, os.path.basename(img)))\n",
    "    for img in val_imgs:\n",
    "        shutil.copy(img, os.path.join(output_dir, \"val\", label, os.path.basename(img)))\n",
    "for label, folders in data_sources.items():\n",
    "    merge_and_split(label, folders)\n",
    "print(\" Preprocessing done! Spiral + Meander merged into train/val.\")\n"
   ]
  }
 ],
 "metadata": {
  "kernelspec": {
   "display_name": "Python 3",
   "language": "python",
   "name": "python3"
  },
  "language_info": {
   "codemirror_mode": {
    "name": "ipython",
    "version": 3
   },
   "file_extension": ".py",
   "mimetype": "text/x-python",
   "name": "python",
   "nbconvert_exporter": "python",
   "pygments_lexer": "ipython3",
   "version": "3.12.5"
  }
 },
 "nbformat": 4,
 "nbformat_minor": 2
}
